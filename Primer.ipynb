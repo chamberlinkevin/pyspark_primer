{
 "cells": [
  {
   "cell_type": "markdown",
   "metadata": {},
   "source": [
    "PySpark Primer Notebook\n",
    "By Kevin Chamberlin\n",
    "Updated July 2024"
   ]
  },
  {
   "cell_type": "code",
   "execution_count": 1,
   "metadata": {},
   "outputs": [
    {
     "name": "stdout",
     "output_type": "stream",
     "text": [
      "Note: you may need to restart the kernel to use updated packages.\n",
      "Note: you may need to restart the kernel to use updated packages.\n",
      "Note: you may need to restart the kernel to use updated packages.\n"
     ]
    }
   ],
   "source": [
    "%pip install fsspec --quiet\n",
    "%pip install s3fs --quiet\n",
    "%pip install pyspark --quiet"
   ]
  },
  {
   "cell_type": "code",
   "execution_count": 2,
   "metadata": {},
   "outputs": [
    {
     "name": "stderr",
     "output_type": "stream",
     "text": [
      "24/08/01 19:10:09 WARN Utils: Your hostname, codespaces-00e44c resolves to a loopback address: 127.0.0.1; using 10.0.1.4 instead (on interface eth0)\n",
      "24/08/01 19:10:09 WARN Utils: Set SPARK_LOCAL_IP if you need to bind to another address\n",
      "Setting default log level to \"WARN\".\n",
      "To adjust logging level use sc.setLogLevel(newLevel). For SparkR, use setLogLevel(newLevel).\n",
      "24/08/01 19:10:09 WARN NativeCodeLoader: Unable to load native-hadoop library for your platform... using builtin-java classes where applicable\n"
     ]
    }
   ],
   "source": [
    "from pyspark.sql import SparkSession\n",
    "\n",
    "spark = SparkSession \\\n",
    "    .builder \\\n",
    "    .appName(\"Python Spark SQL basic example\") \\\n",
    "    .config(\"spark.some.config.option\", \"some-value\") \\\n",
    "    .getOrCreate()"
   ]
  },
  {
   "cell_type": "code",
   "execution_count": 3,
   "metadata": {},
   "outputs": [
    {
     "data": {
      "text/plain": [
       "DataFrame[ID: bigint, FirstName: string, LastName: string, Hometown: string, Favorite Color: string]"
      ]
     },
     "metadata": {},
     "output_type": "display_data"
    },
    {
     "name": "stderr",
     "output_type": "stream",
     "text": [
      "24/08/01 19:10:22 WARN GarbageCollectionMetrics: To enable non-built-in garbage collector(s) List(G1 Concurrent GC), users should configure it(them) to spark.eventLog.gcMetrics.youngGenerationGarbageCollectors or spark.eventLog.gcMetrics.oldGenerationGarbageCollectors\n"
     ]
    }
   ],
   "source": [
    "# Example of manually creating a Spark DataFrame using PySpark code \n",
    "l_avengers_data = [[1, \"Steve\", \"Rogers\", \"Brooklyn, NY\", \"Blue\"]\n",
    "              ,[2, \"Tony\", \"Stark\", \"Manahattan, NY\", \"Gold\"]\n",
    "              ,[3, \"Peter\", \"Parker\", \"Queens, NY\", \"Blue\"]\n",
    "              ,[4, \"Scott\", \"Lang\", \"Coral Gables, FL\", \"Blue\"]\n",
    "              ,[5, \"Natasha\", \"Romanoff\", \"Stalingrad, USSR\", \"Black\"]\n",
    "              ,[6, \"Clint\", \"Barton\", \"Waverly, IA\", \"Purple\"]]\n",
    "\n",
    "l_avengers_col_names = [\"ID\", \"FirstName\", \"LastName\", \"Hometown\", \"Favorite Color\"]\n",
    "\n",
    "sdf_avengers = spark.createDataFrame(l_avengers_data, l_avengers_col_names)\n",
    "\n",
    "display(sdf_avengers)"
   ]
  }
 ],
 "metadata": {
  "kernelspec": {
   "display_name": ".venv",
   "language": "python",
   "name": "python3"
  },
  "language_info": {
   "codemirror_mode": {
    "name": "ipython",
    "version": 3
   },
   "file_extension": ".py",
   "mimetype": "text/x-python",
   "name": "python",
   "nbconvert_exporter": "python",
   "pygments_lexer": "ipython3",
   "version": "3.10.13"
  }
 },
 "nbformat": 4,
 "nbformat_minor": 2
}
